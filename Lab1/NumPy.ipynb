{
 "cells": [
  {
   "cell_type": "code",
   "execution_count": 35,
   "id": "4b45279d",
   "metadata": {},
   "outputs": [
    {
     "name": "stdout",
     "output_type": "stream",
     "text": [
      "Завдання 1. NumPy\n",
      "\n",
      "Набір даних, функція arrange:\n",
      "[1 2 3 4 5 6 7 8 9]\n",
      "Набір даних, функція random:\n",
      "[[6 8 4]\n",
      " [1 2 9]\n",
      " [2 2 2]]\n",
      "Зчитування з файлу: [1 2 3 4 5 6 7 8 9]\n",
      "\n",
      "Операції:скаляр, вектор, матриця\n",
      "\n",
      "Множення матриці на скаляр: \n",
      "[[18 24 12]\n",
      " [ 3  6 27]\n",
      " [ 6  6  6]]\n",
      "Транспонування матриці: \n",
      "[[6 1 2]\n",
      " [8 2 2]\n",
      " [4 9 2]]\n",
      "Сума двох векторів:\n",
      "[50 70 90]\n",
      "Добуток векторів: \n",
      "3200\n",
      "Початковий вектор:\n",
      "[1 2 3 4 5 6 7 8 9]\n",
      "Видалення елементів:\n",
      "[1 4 5 6 7 8 9]\n"
     ]
    }
   ],
   "source": [
    "import numpy as np\n",
    "data_set1 = np.arange(1,10)\n",
    "data_set2 = np.random.randint(10, size = (3,3))\n",
    "print(\"Завдання 1. NumPy\")\n",
    "print()\n",
    "print(\"Набір даних, функція arrange:\")\n",
    "print(data_set1)\n",
    "print(\"Набір даних, функція random:\")\n",
    "print(data_set2)\n",
    "arr = np.save('data_set1.npy',data_set1)\n",
    "output = np.load('data_set1.npy')\n",
    "print(\"Зчитування з файлу:\", output)\n",
    "print()\n",
    "print(\"Операції:скаляр, вектор, матриця\")\n",
    "print()\n",
    "print (\"Множення матриці на скаляр: \")\n",
    "print (3*data_set2)\n",
    "print (\"Транспонування матриці: \")\n",
    "print (np.transpose(data_set2))\n",
    "numpy_array_1 = np.array([40, 50, 60])\n",
    "numpy_array_2 = np.array([10, 20, 30])\n",
    "print (\"Сума двох векторів:\")\n",
    "print (np.add(numpy_array_1,numpy_array_2))\n",
    "print (\"Добуток векторів: \")\n",
    "print (np.dot(numpy_array_1,numpy_array_2))\n",
    "vector = np.arange(1,11)\n",
    "print(\"Початковий вектор:\")\n",
    "print(data_set1)\n",
    "vector_new = np.delete(data_set1,[1,2])\n",
    "print(\"Видалення елементів:\")\n",
    "print(vector_new)"
   ]
  }
 ],
 "metadata": {
  "kernelspec": {
   "display_name": "Python 3",
   "language": "python",
   "name": "python3"
  },
  "language_info": {
   "codemirror_mode": {
    "name": "ipython",
    "version": 3
   },
   "file_extension": ".py",
   "mimetype": "text/x-python",
   "name": "python",
   "nbconvert_exporter": "python",
   "pygments_lexer": "ipython3",
   "version": "3.8.8"
  }
 },
 "nbformat": 4,
 "nbformat_minor": 5
}
