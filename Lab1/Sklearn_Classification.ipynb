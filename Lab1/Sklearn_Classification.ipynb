{
 "cells": [
  {
   "cell_type": "code",
   "execution_count": 37,
   "metadata": {},
   "outputs": [],
   "source": [
    "from sklearn.preprocessing import LabelEncoder\n",
    "import pandas as pd\n",
    "import numpy as np\n",
    "from matplotlib import pyplot as plt\n",
    "from sklearn import svm\n",
    "from sklearn import metrics\n",
    "from sklearn import preprocessing\n",
    "from sklearn.model_selection import train_test_split"
   ]
  },
  {
   "cell_type": "code",
   "execution_count": 38,
   "metadata": {},
   "outputs": [
    {
     "name": "stdout",
     "output_type": "stream",
     "text": [
      "        mark  price mileage\n",
      "0   Mercedes   9000   12390\n",
      "1   Mercedes   9000    5700\n",
      "2   Mercedes   9000    8660\n",
      "3       Opel   5000   23305\n",
      "4       Opel   5000    1487\n",
      "5       Opel   5000    6547\n",
      "6       Opel   5000   14700\n",
      "7      Honda  10000    5100\n",
      "8      Honda  10000    3900\n",
      "9      Honda  10000    3408\n",
      "10     Honda  10000    7420\n",
      "11     Honda  10000    1600\n"
     ]
    }
   ],
   "source": [
    "mark = ['Mercedes','Mercedes','Mercedes','Opel','Opel','Opel','Opel','Honda','Honda','Honda','Honda','Honda']\n",
    "price = ['9000','9000','9000','5000','5000','5000','5000','10000','10000','10000','10000','10000']\n",
    "mileage = ['12390','5700','8660','23305','1487','6547','14700','5100','3900','3408','7420','1600']\n",
    "data_frame = pd.DataFrame({'mark':mark,'price':price,'mileage':mileage})\n",
    "print(data_frame)"
   ]
  },
  {
   "cell_type": "code",
   "execution_count": 39,
   "metadata": {},
   "outputs": [],
   "source": [
    "leble = LabelEncoder()\n",
    "Num_mark = data_frame[data_frame.columns[:1]].apply(leble.fit_transform)\n",
    "data_frame.mark = Num_mark"
   ]
  },
  {
   "cell_type": "code",
   "execution_count": 40,
   "metadata": {},
   "outputs": [
    {
     "name": "stdout",
     "output_type": "stream",
     "text": [
      "    mark  price mileage\n",
      "0      1   9000   12390\n",
      "1      1   9000    5700\n",
      "3      2   5000   23305\n",
      "5      2   5000    6547\n",
      "10     0  10000    7420\n",
      "9      0  10000    3408\n",
      "11     0  10000    1600\n",
      "2      1   9000    8660\n",
      "4      2   5000    1487\n",
      "6      2   5000   14700\n",
      "7      0  10000    5100\n",
      "8      0  10000    3900\n"
     ]
    }
   ],
   "source": [
    "mixed_data_frame = data_frame.sample(frac=1)\n",
    "print(mixed_data_frame)"
   ]
  },
  {
   "cell_type": "code",
   "execution_count": 41,
   "metadata": {},
   "outputs": [
    {
     "data": {
      "text/plain": [
       "10000    5\n",
       "5000     4\n",
       "9000     3\n",
       "Name: price, dtype: int64"
      ]
     },
     "execution_count": 41,
     "metadata": {},
     "output_type": "execute_result"
    }
   ],
   "source": [
    "data_frame['price'].value_counts()"
   ]
  },
  {
   "cell_type": "code",
   "execution_count": 42,
   "metadata": {},
   "outputs": [],
   "source": [
    "X = data_frame.drop(['price'], axis=1)\n",
    "Y = data_frame['price']"
   ]
  },
  {
   "cell_type": "code",
   "execution_count": 43,
   "metadata": {},
   "outputs": [],
   "source": [
    "X_train, X_test, Y_train, Y_test = train_test_split(X , Y,test_size=0.25,random_state=52)"
   ]
  },
  {
   "cell_type": "code",
   "execution_count": 44,
   "metadata": {},
   "outputs": [],
   "source": [
    "normalization = preprocessing.MinMaxScaler()\n",
    "normalization.fit(X_train)\n",
    "X_train_normalization = normalization.transform(X_train)"
   ]
  },
  {
   "cell_type": "code",
   "execution_count": 45,
   "metadata": {},
   "outputs": [],
   "source": [
    "normalization.fit(X_test)\n",
    "X_test_normalization = normalization.transform(X_test)"
   ]
  },
  {
   "cell_type": "code",
   "execution_count": 46,
   "metadata": {},
   "outputs": [
    {
     "name": "stdout",
     "output_type": "stream",
     "text": [
      "Accuracy:\n",
      "66.66666666666666 %\n"
     ]
    }
   ],
   "source": [
    "model = svm.SVC()\n",
    "model.fit(X_train_normalization,Y_train)\n",
    "Y_head = model.predict(X_test_normalization)\n",
    "print(\"Accuracy:\")\n",
    "print((metrics.accuracy_score(Y_test, Y_hat))*100,\"%\")"
   ]
  },
  {
   "cell_type": "code",
   "execution_count": 47,
   "metadata": {},
   "outputs": [
    {
     "name": "stdout",
     "output_type": "stream",
     "text": [
      "['10000' '5000' '10000']\n"
     ]
    }
   ],
   "source": [
    "print(Y_head)"
   ]
  },
  {
   "cell_type": "code",
   "execution_count": null,
   "metadata": {},
   "outputs": [],
   "source": []
  }
 ],
 "metadata": {
  "kernelspec": {
   "display_name": "Python 3",
   "language": "python",
   "name": "python3"
  },
  "language_info": {
   "codemirror_mode": {
    "name": "ipython",
    "version": 3
   },
   "file_extension": ".py",
   "mimetype": "text/x-python",
   "name": "python",
   "nbconvert_exporter": "python",
   "pygments_lexer": "ipython3",
   "version": "3.8.8"
  }
 },
 "nbformat": 4,
 "nbformat_minor": 4
}
