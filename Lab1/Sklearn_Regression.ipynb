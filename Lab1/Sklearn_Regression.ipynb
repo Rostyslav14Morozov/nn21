{
 "cells": [
  {
   "cell_type": "code",
   "execution_count": 1,
   "metadata": {},
   "outputs": [
    {
     "name": "stderr",
     "output_type": "stream",
     "text": [
      "Matplotlib is building the font cache; this may take a moment.\n"
     ]
    }
   ],
   "source": [
    "from sklearn.linear_model import LinearRegression\n",
    "from sklearn.preprocessing import LabelEncoder\n",
    "import pandas as pd\n",
    "import numpy as np\n",
    "from matplotlib import pyplot as plt"
   ]
  },
  {
   "cell_type": "code",
   "execution_count": 2,
   "metadata": {},
   "outputs": [
    {
     "name": "stdout",
     "output_type": "stream",
     "text": [
      "        mark  price mileage\n",
      "0   Mercedes   9000   12390\n",
      "1   Mercedes  15500    5700\n",
      "2   Mercedes  13300    8660\n",
      "3       Opel   4000   23305\n",
      "4       Opel  12000    1487\n",
      "5       Opel   9500    6547\n",
      "6       Opel   4000   14700\n",
      "7      Honda  11300    5100\n",
      "8      Honda  13000    3900\n",
      "9      Honda   9400    3408\n",
      "10     Honda   5000    7420\n",
      "11     Honda   7000    1600\n"
     ]
    }
   ],
   "source": [
    "mark = ['Mercedes','Mercedes','Mercedes','Opel','Opel','Opel','Opel','Honda','Honda','Honda','Honda','Honda']\n",
    "price = ['9000','15500','13300','4000','12000','9500','4000','11300','13000','9400','5000','7000']\n",
    "mileage = ['12390','5700','8660','23305','1487','6547','14700','5100','3900','3408','7420','1600']\n",
    "data_frame = pd.DataFrame({'mark':mark,'price':price,'mileage':mileage})\n",
    "print(data_frame)"
   ]
  },
  {
   "cell_type": "code",
   "execution_count": 3,
   "metadata": {},
   "outputs": [],
   "source": [
    "leble = LabelEncoder()\n",
    "Num_mark = data_frame[data_frame.columns[:1]].apply(leble.fit_transform)\n",
    "data_frame.mark = Num_mark"
   ]
  },
  {
   "cell_type": "code",
   "execution_count": 4,
   "metadata": {},
   "outputs": [
    {
     "name": "stdout",
     "output_type": "stream",
     "text": [
      "    mark  price mileage\n",
      "5      2   9500    6547\n",
      "0      1   9000   12390\n",
      "1      1  15500    5700\n",
      "10     0   5000    7420\n",
      "11     0   7000    1600\n",
      "6      2   4000   14700\n",
      "2      1  13300    8660\n",
      "7      0  11300    5100\n",
      "8      0  13000    3900\n",
      "3      2   4000   23305\n",
      "9      0   9400    3408\n",
      "4      2  12000    1487\n"
     ]
    }
   ],
   "source": [
    "mixed_data_frame = data_frame.sample(frac=1)\n",
    "print(mixed_data_frame)"
   ]
  },
  {
   "cell_type": "code",
   "execution_count": 5,
   "metadata": {},
   "outputs": [],
   "source": [
    "piece = int(0.7*len(data_frame))\n",
    "train_data = mixed_data_frame.iloc[:piece,:]\n",
    "piece = int(0.3*len(data_frame))\n",
    "test_data = mixed_data_frame.iloc[:piece,:]\n",
    "train_x = train_data[train_data.columns[:2]]\n",
    "train_y = train_data[train_data.columns[2:]]\n",
    "test_x = test_data[test_data.columns[:2]]\n",
    "test_y = test_data[test_data.columns[2:]]"
   ]
  },
  {
   "cell_type": "code",
   "execution_count": 6,
   "metadata": {},
   "outputs": [],
   "source": [
    "model = LinearRegression(fit_intercept = True, normalize = True)\n",
    "reg = model.fit(train_x,train_y)"
   ]
  },
  {
   "cell_type": "code",
   "execution_count": 7,
   "metadata": {},
   "outputs": [
    {
     "name": "stdout",
     "output_type": "stream",
     "text": [
      "Predict is : \n",
      " [[11108.78479081]\n",
      " [ 8247.98428398]\n",
      " [ 6138.47477678]]\n",
      "In data frame is: \n",
      "   mileage\n",
      "5    6547\n",
      "0   12390\n",
      "1    5700\n"
     ]
    }
   ],
   "source": [
    "pred_y = reg.predict(test_x)\n",
    "print(\"Predict is : \\n\",pred_y)\n",
    "print(\"In data frame is: \\n\", test_y)"
   ]
  },
  {
   "cell_type": "code",
   "execution_count": 8,
   "metadata": {},
   "outputs": [
    {
     "data": {
      "text/plain": [
       "array([[ 3.02307047e+03, -3.24539924e-01]])"
      ]
     },
     "execution_count": 8,
     "metadata": {},
     "output_type": "execute_result"
    }
   ],
   "source": [
    "reg.coef_"
   ]
  },
  {
   "cell_type": "code",
   "execution_count": 9,
   "metadata": {},
   "outputs": [
    {
     "data": {
      "text/plain": [
       "array([8145.77313271])"
      ]
     },
     "execution_count": 9,
     "metadata": {},
     "output_type": "execute_result"
    }
   ],
   "source": [
    "reg.intercept_"
   ]
  },
  {
   "cell_type": "code",
   "execution_count": null,
   "metadata": {},
   "outputs": [],
   "source": []
  }
 ],
 "metadata": {
  "kernelspec": {
   "display_name": "Python 3",
   "language": "python",
   "name": "python3"
  },
  "language_info": {
   "codemirror_mode": {
    "name": "ipython",
    "version": 3
   },
   "file_extension": ".py",
   "mimetype": "text/x-python",
   "name": "python",
   "nbconvert_exporter": "python",
   "pygments_lexer": "ipython3",
   "version": "3.8.8"
  }
 },
 "nbformat": 4,
 "nbformat_minor": 4
}
