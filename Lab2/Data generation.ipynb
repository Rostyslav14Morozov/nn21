{
 "cells": [
  {
   "cell_type": "markdown",
   "id": "2e8a6c7a",
   "metadata": {},
   "source": [
    "### Лабораторна робота №2\n",
    "\n",
    "з дисципліни \"Нейронні мережі\"\n",
    "\n",
    "студента групи АнД-41\n",
    "\n",
    "Морозова Ростислава\n",
    "\n",
    "Завдання:\n",
    "Поглиблено вивчити функцію make_regression.\n",
    "Згенерувати набір даних за допомогою означеної функції, з використанням якнайбільшої кількості параметрів. 3. Розмірність набору даних прийняти у вигляді (100000х(30-n)), де n - номер за списком.\n",
    "Здійснити моделювання згенерованого набору даних та візуалізацію результатів.\n",
    "Результати оформити у вигляді файлів:\n",
    "\n",
    "а) набір даних у форматі .csv;\n",
    "\n",
    "б) код для формування набору даних у форматі .ipynb;\n",
    "\n",
    "в) код для моделювання та візуалізації у форматі .ipynb.\n",
    "\n",
    "Результати викласти у репозиторії GitHub (папка Lab2). Підготуватися до захисту лабораторрної роботи (пояснення коду, відповіді на запитання за темою)"
   ]
  },
  {
   "cell_type": "code",
   "execution_count": 35,
   "id": "c9634f82",
   "metadata": {},
   "outputs": [
    {
     "name": "stdout",
     "output_type": "stream",
     "text": [
      "X_test =  [[ 0.35743992  0.3775384   1.38233789  1.17554883]\n",
      " [-0.9392757  -1.14315015 -0.54243951 -0.54870808]\n",
      " [ 0.20851975  0.21268956  1.26802054 -0.80730293]]\n",
      "Y_test =  [ 264.98132961 -236.18076139   71.79640682]\n",
      "coefficient =  [33.80319082 98.5728585  86.55799094 81.69690687]\n"
     ]
    }
   ],
   "source": [
    "from sklearn.datasets import make_regression\n",
    "import pandas as pd\n",
    "X,Y,coefficient = make_regression(n_samples = 2100000 # рядки  \n",
    "                           ,n_features = 4 #колонки\n",
    "                           ,n_informative = 4, #інф. хар-ки \n",
    "                           n_targets = 1, # функції\n",
    "                           bias = 0.00,#зміщення\n",
    "                           effective_rank = None, #сингулярні вектори, \n",
    "                           tail_strength = 0.2, #важливість жирного шумового хвоста\n",
    "                           noise = 0.03, #шум\n",
    "                           shuffle = False, #перемішати\n",
    "                           coef = True, #коефіціенти регресійної моделі)\n",
    "                           random_state = 444) #рандомний стан\n",
    "print(\"X_test = \",X[:3])\n",
    "print(\"Y_test = \",Y[:3])\n",
    "print(\"coefficient = \",coefficient)"
   ]
  },
  {
   "cell_type": "code",
   "execution_count": 36,
   "id": "31be153d",
   "metadata": {},
   "outputs": [],
   "source": [
    "data_frame_X = pd.DataFrame(X)\n",
    "data_frame_Y = pd.DataFrame(Y)\n",
    "data_frame = pd.concat([data_frame_X,data_frame_Y], axis = 1)"
   ]
  },
  {
   "cell_type": "code",
   "execution_count": 37,
   "id": "19e4fe62",
   "metadata": {},
   "outputs": [],
   "source": [
    "df.to_csv('LAB2.csv')"
   ]
  }
 ],
 "metadata": {
  "kernelspec": {
   "display_name": "Python 3",
   "language": "python",
   "name": "python3"
  },
  "language_info": {
   "codemirror_mode": {
    "name": "ipython",
    "version": 3
   },
   "file_extension": ".py",
   "mimetype": "text/x-python",
   "name": "python",
   "nbconvert_exporter": "python",
   "pygments_lexer": "ipython3",
   "version": "3.8.8"
  }
 },
 "nbformat": 4,
 "nbformat_minor": 5
}
