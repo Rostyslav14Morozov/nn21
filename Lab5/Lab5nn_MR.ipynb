{
 "cells": [
  {
   "cell_type": "markdown",
   "id": "83c093d6",
   "metadata": {},
   "source": [
    "## Лабораторна робота №5\n",
    "з дисципліни \"Нейронні мережі\"\n",
    "  \n",
    "студента групи АнД-41\n",
    "  \n",
    "Морозова Ростислава\n",
    "\n",
    "### Варіант № 9"
   ]
  },
  {
   "cell_type": "markdown",
   "id": "af98cf29",
   "metadata": {},
   "source": [
    "## Завдання\n",
    "\n",
    "1. Виконати вирішення задачs класифікації для 3 класів з набору даних food101 з використанням різних моделей нейронних мереж:\n",
    "\n",
    "1.1  CNN модель з лабораторної роботи 4;\n",
    "\n",
    "1.2  Resnet модель;\n",
    "\n",
    "1.3  Efficientnet модель (моделі 1.1-1.3 з використанням оптимізатора Adam);\n",
    "\n",
    "1.4  Моделі 1.2,1.3 з використанням оптимізатора SGD.\n",
    "\n",
    "2. Індекси класів визначити індивідуально за залежностями: i1=n-1,i2=n+29,i3=n+59 (де і1,і2,і3 - індекс класу (починаючи з 0) у відсортованому за алфавітом наборі даних, n - номер за списком групи.\n",
    "\n",
    "3. Порівняти результати моделювання із використанням TensorBoard.\n",
    "\n",
    "4. Графік(и) порівняння результатів завантажити у форматі .svg та вставити у підсумковий файл поряд із та відповідними висновками. \n",
    "\n",
    "5. Результати оформити у вигляді файлу з кодом для моделювання та візуалізації у форматі .ipynb.\n",
    "\n",
    "6. Результати викласти у репозиторії GitHub (папка Lab5).\n",
    "\n",
    "7. Підготуватися до захисту лабораторрної роботи (пояснення коду, відповіді на запитання за темою).\n",
    "\n",
    "#### Індекси за варіантом: 8, 38, 68"
   ]
  },
  {
   "cell_type": "code",
   "execution_count": 1,
   "id": "4025247e",
   "metadata": {},
   "outputs": [],
   "source": [
    "import matplotlib.pyplot as plt\n",
    "import random\n",
    "import datetime\n",
    "import os\n",
    "import time\n",
    "import pathlib\n",
    "import pandas as pd\n",
    "import numpy as np\n",
    "import sklearn.metrics as metrics\n",
    "from sklearn.metrics import confusion_matrix\n",
    "import tensorflow as tf\n",
    "import tensorflow_hub as hub\n",
    "from tensorflow.keras.preprocessing.image import ImageDataGenerator\n",
    "from tensorflow.keras import Sequential\n",
    "from tensorflow.keras.layers import Conv2D, MaxPool2D,Flatten,Dense,BatchNormalization,Dropout\n",
    "from tensorflow.keras.optimizers import Adam"
   ]
  },
  {
   "cell_type": "code",
   "execution_count": 2,
   "id": "a24c44fc",
   "metadata": {},
   "outputs": [
    {
     "name": "stdout",
     "output_type": "stream",
     "text": [
      "['bread_pudding' 'fish_and_chips' 'onion_rings']\n"
     ]
    }
   ],
   "source": [
    "data_dir = pathlib.Path(\"101_food_classes_10_percent/train/\") # turn our training path into a Python path\n",
    "class_names = np.array(sorted([item.name for item in data_dir.glob('*')])) # created a list of class_names from the subdirectories\n",
    "print(class_names)"
   ]
  },
  {
   "cell_type": "code",
   "execution_count": 108,
   "id": "259b68cc",
   "metadata": {},
   "outputs": [
    {
     "name": "stdout",
     "output_type": "stream",
     "text": [
      "Found 750 images belonging to 3 classes.\n",
      "Found 225 images belonging to 3 classes.\n"
     ]
    }
   ],
   "source": [
    "train_datagen = ImageDataGenerator(rescale = 1/255., horizontal_flip = True,\n",
    "                                   brightness_range = (0.2, 0.4), shear_range = 0.2, zoom_range = 0.2,  \n",
    "                                   rotation_range = 0.3)\n",
    "test_datagen = ImageDataGenerator(rescale = 1/255.)\n",
    "\n",
    " \n",
    "train_dir = \"101_food_classes_10_percent/train/\"\n",
    "test_dir = \"101_food_classes_10_percent/test/\"\n",
    "\n",
    "\n",
    "train_data = train_datagen.flow_from_directory(train_dir,\n",
    "                                               batch_size=32, # number of images to process at a time \n",
    "                                               target_size=(224, 224), # convert all images to be 224 x 224\n",
    "                                               class_mode=\"categorical\", # type of problem we're working on\n",
    "                                               seed=42)\n",
    "\n",
    "test_data = test_datagen.flow_from_directory(test_dir,\n",
    "                                               batch_size=32,\n",
    "                                               target_size=(224, 224),\n",
    "                                               seed=42,shuffle = 'False',\n",
    "                                               color_mode=\"rgb\",\n",
    "                                               class_mode=\"categorical\")"
   ]
  },
  {
   "cell_type": "markdown",
   "id": "009b38d7",
   "metadata": {},
   "source": [
    "### 1. CNN модель з лабораторної роботи 4"
   ]
  },
  {
   "cell_type": "code",
   "execution_count": 36,
   "id": "afead53f",
   "metadata": {},
   "outputs": [
    {
     "name": "stdout",
     "output_type": "stream",
     "text": [
      "Epoch 1/5\n",
      "24/24 [==============================] - 23s 925ms/step - loss: 1.0960 - accuracy: 0.3733 - val_loss: 1.1289 - val_accuracy: 0.3511\n",
      "Epoch 2/5\n",
      "24/24 [==============================] - 22s 899ms/step - loss: 1.0408 - accuracy: 0.4387 - val_loss: 1.0347 - val_accuracy: 0.5111\n",
      "Epoch 3/5\n",
      "24/24 [==============================] - 22s 892ms/step - loss: 0.9816 - accuracy: 0.5027 - val_loss: 1.2519 - val_accuracy: 0.4800\n",
      "Epoch 4/5\n",
      "24/24 [==============================] - 22s 894ms/step - loss: 0.9197 - accuracy: 0.5453 - val_loss: 1.2733 - val_accuracy: 0.5289\n",
      "Epoch 5/5\n",
      "24/24 [==============================] - 22s 908ms/step - loss: 0.9233 - accuracy: 0.5507 - val_loss: 1.0871 - val_accuracy: 0.5733\n",
      "Час навчання: 111.78  секунд\n"
     ]
    }
   ],
   "source": [
    "tf.random.set_seed(42)\n",
    "model_1 = tf.keras.models.Sequential([\n",
    "  Conv2D(filters=10, kernel_size=3, activation=\"relu\", input_shape=(224, 224, 3)), # first layer specifies input shape (height, width, colour channels)\n",
    "  Conv2D(10, 3, activation=\"relu\"),\n",
    "  MaxPool2D(pool_size=2,  padding=\"valid\"), # padding can also be 'same'\n",
    "  Conv2D(10, 3, activation=\"relu\"),\n",
    "  Conv2D(10, 3, activation=\"relu\"), \n",
    "  MaxPool2D(2),\n",
    "  Flatten(),\n",
    "  Dense(3, activation=\"softmax\")])\n",
    "\n",
    "\n",
    "model_1.compile(loss=\"categorical_crossentropy\",\n",
    "              optimizer=tf.keras.optimizers.Adam(),\n",
    "              metrics=[\"accuracy\"])\n",
    "\n",
    "CNN_model_time = time.time()\n",
    "history_CNN = model_1.fit(train_data,epochs=5,validation_data=test_data)\n",
    "time_CNN = time.time() - CNN_model_time\n",
    "print(\"Час навчання:\", round(time_CNN,2), \" секунд\" )"
   ]
  },
  {
   "cell_type": "code",
   "execution_count": 37,
   "id": "3af7ee2a",
   "metadata": {},
   "outputs": [],
   "source": [
    "def plot_accuracy(history):\n",
    "    accuracy = history.history['accuracy']\n",
    "    val_accuracy = history.history['val_accuracy']\n",
    "\n",
    "    epochs = range(len(history.history['loss']))\n",
    "\n",
    "    # Plot accuracy\n",
    "    plt.figure(figsize = (9,5))\n",
    "    plt.plot(epochs, accuracy, label='training_accuracy')\n",
    "    plt.plot(epochs, val_accuracy, label='val_accuracy')\n",
    "    plt.title('Accuracy per epoch',fontsize = 20)\n",
    "    plt.xlabel('Epochs',fontsize = 20)\n",
    "    plt.legend(prop={'size': 14})"
   ]
  },
  {
   "cell_type": "code",
   "execution_count": 38,
   "id": "67c1cacd",
   "metadata": {},
   "outputs": [
    {
     "data": {
      "image/png": "[encoded data removed]",
      "text/plain": [
       "<Figure size 648x360 with 1 Axes>"
      ]
     },
     "metadata": {
      "needs_background": "light"
     },
     "output_type": "display_data"
    }
   ],
   "source": [
    "plot_accuracy(history_CNN)"
   ]
  },
  {
   "cell_type": "code",
   "execution_count": 39,
   "id": "9070a54d",
   "metadata": {},
   "outputs": [],
   "source": [
    "true_y = []\n",
    "for batch in range(len(test_data)):\n",
    "    true_y += list(test_data[batch][-1].argmax(axis=1))"
   ]
  },
  {
   "cell_type": "code",
   "execution_count": 40,
   "id": "d585b2ce",
   "metadata": {},
   "outputs": [
    {
     "data": {
      "text/plain": [
       "225"
      ]
     },
     "execution_count": 40,
     "metadata": {},
     "output_type": "execute_result"
    }
   ],
   "source": [
    "len(true_y)"
   ]
  },
  {
   "cell_type": "code",
   "execution_count": 41,
   "id": "f7b00f2f",
   "metadata": {},
   "outputs": [
    {
     "name": "stdout",
     "output_type": "stream",
     "text": [
      "[2, 2, 0, 1, 2, 0, 1, 2, 0, 0, 0, 0, 1, 1, 1, 0, 2, 2, 1, 0, 0, 0, 2, 0, 0, 1, 2, 0, 1, 0, 1, 2, 1, 1, 0, 1, 2, 2, 1, 0, 1, 2, 1, 1, 0, 0, 1, 2, 1, 1, 2, 0, 2, 0, 1, 2, 1, 0, 0, 0, 1, 2, 1, 0, 2, 0, 2, 0, 2, 1, 0, 2, 0, 0, 2, 2, 1, 1, 2, 1, 0, 0, 1, 0, 0, 1, 1, 0, 2, 2, 2, 0, 1, 1, 1, 1, 0, 2, 1, 0, 0, 1, 2, 2, 2, 2, 2, 2, 2, 1, 2, 1, 0, 1, 0, 2, 0, 2, 0, 2, 2, 1, 2, 1, 2, 1, 2, 1, 1, 2, 2, 0, 2, 2, 0, 1, 2, 0, 1, 1, 2, 1, 2, 1, 1, 0, 1, 2, 1, 2, 1, 2, 0, 0, 0, 1, 0, 1, 2, 1, 0, 0, 1, 1, 0, 1, 2, 0, 0, 0, 2, 1, 1, 2, 2, 2, 2, 2, 2, 1, 0, 2, 0, 2, 1, 1, 2, 0, 0, 0, 0, 0, 0, 2, 0, 1, 2, 0, 0, 2, 0, 1, 1, 0, 2, 1, 0, 1, 2, 0, 0, 2, 2, 1, 1, 0, 1, 0, 2, 1, 1, 0, 2, 1, 2]\n"
     ]
    }
   ],
   "source": [
    "print(true_y)"
   ]
  },
  {
   "cell_type": "code",
   "execution_count": 42,
   "id": "e705058e",
   "metadata": {},
   "outputs": [],
   "source": [
    "def forecast_and_conf_matrix(model,true_y):\n",
    "    pred = model.predict(test_data).argmax(axis=1)\n",
    "    conf_matrix=metrics.confusion_matrix(true_y,pred)    \n",
    "    conf_matrix = pd.DataFrame(confusion_matrix(y_pred=pred, y_true=true_y), \n",
    "                            index=class_names, columns=class_names)\n",
    "    print(\"Confusion matrix:\")\n",
    "    print(conf_matrix)   "
   ]
  },
  {
   "cell_type": "code",
   "execution_count": 43,
   "id": "24edeb80",
   "metadata": {},
   "outputs": [
    {
     "name": "stdout",
     "output_type": "stream",
     "text": [
      "Confusion matrix:\n",
      "                apple_pie  deviled_eggs  lobster_bisque\n",
      "apple_pie              35            21              19\n",
      "deviled_eggs           20            46               9\n",
      "lobster_bisque         13            14              48\n"
     ]
    }
   ],
   "source": [
    "forecast_and_conf_matrix(model_1,true_y)"
   ]
  },
  {
   "cell_type": "markdown",
   "id": "dbaa9ce2",
   "metadata": {},
   "source": [
    " ### 2. Resnet модель "
   ]
  },
  {
   "cell_type": "markdown",
   "id": "8885558e",
   "metadata": {},
   "source": [
    "#### 2.1 Adam optimizer"
   ]
  },
  {
   "cell_type": "code",
   "execution_count": 109,
   "id": "e4be88e5",
   "metadata": {},
   "outputs": [],
   "source": [
    "def create_tensorboard_callback(dir_name, experiment_name):\n",
    "    log_dir = dir_name + \"/\" + experiment_name + \"/\" + datetime.datetime.now().strftime(\"%Y%m%d-%H%M%S\")\n",
    "    tensorboard_callback = tf.keras.callbacks.TensorBoard(\n",
    "      log_dir=log_dir\n",
    "  )\n",
    "    print(f\"Saving TensorBoard log files to: {log_dir}\")\n",
    "    return tensorboard_callback"
   ]
  },
  {
   "cell_type": "code",
   "execution_count": 110,
   "id": "ee801e56",
   "metadata": {},
   "outputs": [],
   "source": [
    "resnet_url = \"https://tfhub.dev/google/imagenet/resnet_v1_101/feature_vector/5\"\n",
    "IMAGE_SHAPE=(224,224)"
   ]
  },
  {
   "cell_type": "code",
   "execution_count": 111,
   "id": "4ae147df",
   "metadata": {},
   "outputs": [],
   "source": [
    "def create_BC_model(model_url):\n",
    "    feature_extractor_layer = hub.KerasLayer(model_url,\n",
    "                                           trainable=False, # freeze the underlying patterns\n",
    "                                           name='feature_extraction_layer',\n",
    "                                           input_shape=IMAGE_SHAPE+(3,)) # define the input image shape\n",
    "  \n",
    "  # Create our own model\n",
    "    model = tf.keras.Sequential([\n",
    "    feature_extractor_layer, # use the feature extraction layer as the base\n",
    "    Dense(3, activation='softmax', name='output_layer') # create our own output layer      \n",
    "  ])\n",
    "\n",
    "    return model"
   ]
  },
  {
   "cell_type": "code",
   "execution_count": 112,
   "id": "eb3263ea",
   "metadata": {},
   "outputs": [],
   "source": [
    "resnet_Adam_model = create_BC_model(resnet_url)"
   ]
  },
  {
   "cell_type": "code",
   "execution_count": 113,
   "id": "ed7e1469",
   "metadata": {},
   "outputs": [],
   "source": [
    "resnet_Adam_model.compile(\n",
    "    loss=\"sparse_categorical_crossentropy\", \n",
    "    optimizer=tf.keras.optimizers.Adam(), \n",
    "    metrics=['accuracy']\n",
    ")"
   ]
  },
  {
   "cell_type": "code",
   "execution_count": 114,
   "id": "8af8e193",
   "metadata": {},
   "outputs": [
    {
     "name": "stdout",
     "output_type": "stream",
     "text": [
      "Model: \"sequential_9\"\n",
      "_________________________________________________________________\n",
      " Layer (type)                Output Shape              Param #   \n",
      "=================================================================\n",
      " feature_extraction_layer (K  (None, 2048)             42605504  \n",
      " erasLayer)                                                      \n",
      "                                                                 \n",
      " output_layer (Dense)        (None, 3)                 6147      \n",
      "                                                                 \n",
      "=================================================================\n",
      "Total params: 42,611,651\n",
      "Trainable params: 6,147\n",
      "Non-trainable params: 42,605,504\n",
      "_________________________________________________________________\n"
     ]
    }
   ],
   "source": [
    "resnet_Adam_model.summary()"
   ]
  },
  {
   "cell_type": "code",
   "execution_count": 115,
   "id": "c9c85f80",
   "metadata": {},
   "outputs": [
    {
     "name": "stdout",
     "output_type": "stream",
     "text": [
      "Saving TensorBoard log files to: Lab5.1/resnet(Adam)/20211125-140846\n",
      "Epoch 1/2\n",
      "24/24 [==============================] - 153s 6s/step - loss: 0.6624 - accuracy: 0.7133 - val_loss: 0.3607 - val_accuracy: 0.8356\n",
      "Epoch 2/2\n",
      "24/24 [==============================] - 130s 5s/step - loss: 0.2268 - accuracy: 0.9200 - val_loss: 0.2478 - val_accuracy: 0.9067\n",
      "Час навчання: 284.65  секунд\n"
     ]
    }
   ],
   "source": [
    "tf.random.set_seed(42)\n",
    "\n",
    "resnet_Adam_model.compile(\n",
    "    loss=\"categorical_crossentropy\", \n",
    "    optimizer=tf.keras.optimizers.Adam(), \n",
    "    metrics=['accuracy']\n",
    ")\n",
    "\n",
    "resnet_Adam_model_time = time.time()\n",
    "\n",
    "resnet_Adam_model.fit(train_data, epochs=2, validation_data=test_data, \n",
    "                               callbacks=[create_tensorboard_callback(dir_name=\"Lab5.1\", experiment_name=\"resnet(Adam)\")])\n",
    "\n",
    "time_resnet_Adam = time.time() - resnet_Adam_model_time\n",
    "\n",
    "print(\"Час навчання:\", round(time_resnet_Adam,2), \" секунд\" )"
   ]
  },
  {
   "cell_type": "code",
   "execution_count": 60,
   "id": "39e778f6",
   "metadata": {},
   "outputs": [],
   "source": [
    "for layer in resnet_Adam_model.layers[-10:]:\n",
    "    layer.trainable=True"
   ]
  },
  {
   "cell_type": "code",
   "execution_count": 61,
   "id": "d7d8e2ee",
   "metadata": {},
   "outputs": [
    {
     "name": "stdout",
     "output_type": "stream",
     "text": [
      "Model: \"sequential_4\"\n",
      "_________________________________________________________________\n",
      " Layer (type)                Output Shape              Param #   \n",
      "=================================================================\n",
      " feature_extraction_layer (K  (None, 2048)             42605504  \n",
      " erasLayer)                                                      \n",
      "                                                                 \n",
      " output_layer (Dense)        (None, 3)                 6147      \n",
      "                                                                 \n",
      "=================================================================\n",
      "Total params: 42,611,651\n",
      "Trainable params: 42,506,307\n",
      "Non-trainable params: 105,344\n",
      "_________________________________________________________________\n"
     ]
    }
   ],
   "source": [
    "resnet_Adam_model.summary()"
   ]
  },
  {
   "cell_type": "code",
   "execution_count": 116,
   "id": "d59f8fa7",
   "metadata": {},
   "outputs": [
    {
     "name": "stdout",
     "output_type": "stream",
     "text": [
      "[[1.61093543e-04 6.20866631e-05 9.99776781e-01]\n",
      " [1.01132309e-02 9.20346558e-01 6.95402399e-02]\n",
      " [3.71499103e-03 9.95242357e-01 1.04265881e-03]\n",
      " [2.77658980e-02 9.67865705e-01 4.36849892e-03]\n",
      " [2.57378127e-02 9.37312126e-01 3.69501002e-02]\n",
      " [5.09899855e-01 1.89885926e-02 4.71111566e-01]\n",
      " [6.44060274e-05 2.47814824e-05 9.99910831e-01]\n",
      " [2.11142406e-01 7.81001985e-01 7.85564259e-03]\n",
      " [9.45456564e-01 2.39300951e-02 3.06133274e-02]\n",
      " [9.24674422e-03 9.52106237e-01 3.86470929e-02]\n",
      " [2.52299596e-05 1.55394737e-05 9.99959230e-01]\n",
      " [5.57529628e-01 4.40697789e-01 1.77260616e-03]\n",
      " [1.36279661e-04 1.51232061e-05 9.99848604e-01]\n",
      " [5.85862733e-02 9.41006780e-01 4.06894600e-04]\n",
      " [4.97453094e-01 5.01315296e-01 1.23157469e-03]\n",
      " [9.95840073e-01 2.68936693e-03 1.47061120e-03]\n",
      " [3.65938693e-01 6.05986357e-01 2.80749686e-02]\n",
      " [2.22445669e-04 1.37045849e-04 9.99640465e-01]\n",
      " [5.43660205e-03 4.58932761e-03 9.89974082e-01]\n",
      " [3.60997319e-01 6.08383060e-01 3.06196660e-02]\n",
      " [3.93407739e-04 4.96540510e-04 9.99110043e-01]\n",
      " [3.69024067e-03 7.78701971e-04 9.95531142e-01]\n",
      " [9.08145607e-02 9.01810408e-01 7.37496233e-03]\n",
      " [8.16617459e-02 8.64502192e-01 5.38360626e-02]\n",
      " [5.60725182e-02 2.40113020e-01 7.03814507e-01]\n",
      " [8.95393430e-04 9.64655890e-04 9.98139977e-01]\n",
      " [3.05873007e-01 6.90771222e-01 3.35574267e-03]\n",
      " [4.45463648e-03 3.15629728e-02 9.63982463e-01]\n",
      " [5.27470140e-03 9.57000613e-01 3.77246626e-02]\n",
      " [1.45667500e-03 4.80553805e-04 9.98062789e-01]\n",
      " [9.80292819e-03 9.89985108e-01 2.12003783e-04]\n",
      " [2.17248611e-02 9.78045702e-01 2.29419064e-04]\n",
      " [8.96399617e-01 3.90793942e-02 6.45209774e-02]\n",
      " [8.08261757e-05 1.07592161e-04 9.99811590e-01]\n",
      " [3.22965090e-04 2.93990579e-05 9.99647617e-01]\n",
      " [1.15698995e-02 1.32609522e-02 9.75169182e-01]\n",
      " [4.55305904e-01 4.43022430e-01 1.01671681e-01]\n",
      " [2.22687195e-05 4.40963995e-05 9.99933600e-01]\n",
      " [9.08861697e-01 7.23165199e-02 1.88218039e-02]\n",
      " [5.47299348e-03 9.93817031e-01 7.09950633e-04]\n",
      " [5.40295660e-01 2.42532223e-01 2.17172161e-01]\n",
      " [1.69821302e-04 3.15171754e-04 9.99515057e-01]\n",
      " [5.60877891e-03 9.79987741e-01 1.44034717e-02]\n",
      " [3.37549346e-03 1.48998806e-04 9.96475518e-01]\n",
      " [8.97755921e-01 9.67128649e-02 5.53128542e-03]\n",
      " [6.23918022e-05 3.51666495e-05 9.99902487e-01]\n",
      " [1.16824821e-01 8.76297534e-01 6.87757414e-03]\n",
      " [4.11033339e-04 2.05119097e-04 9.99383807e-01]\n",
      " [9.08486009e-01 6.01770021e-02 3.13369967e-02]\n",
      " [8.80419135e-01 1.18520863e-01 1.06002856e-03]\n",
      " [1.50633305e-01 7.68198311e-01 8.11683834e-02]\n",
      " [7.98432946e-01 2.01216593e-01 3.50494258e-04]\n",
      " [9.42880929e-01 5.67887239e-02 3.30292212e-04]\n",
      " [7.19318027e-03 9.87801135e-01 5.00564789e-03]\n",
      " [9.05226480e-05 1.69490741e-04 9.99739945e-01]\n",
      " [8.92103434e-01 7.39792883e-02 3.39173153e-02]\n",
      " [2.57899781e-04 2.49483244e-04 9.99492645e-01]\n",
      " [4.64814337e-04 5.91870667e-05 9.99476016e-01]\n",
      " [9.70009804e-01 2.75512245e-02 2.43890192e-03]\n",
      " [7.62278020e-01 1.62149996e-01 7.55719915e-02]\n",
      " [5.31752348e-01 1.08133383e-01 3.60114276e-01]\n",
      " [1.27713880e-04 3.32313066e-05 9.99839067e-01]\n",
      " [6.50149232e-05 9.12080395e-06 9.99925852e-01]\n",
      " [1.04565702e-01 1.71371952e-01 7.24062383e-01]\n",
      " [2.53311999e-04 5.58012798e-05 9.99690890e-01]\n",
      " [2.34441273e-03 9.97568667e-01 8.69584619e-05]\n",
      " [9.67444956e-01 2.67711263e-02 5.78397792e-03]\n",
      " [1.01171277e-01 8.98570240e-01 2.58495769e-04]\n",
      " [6.36224985e-01 6.47041425e-02 2.99070865e-01]\n",
      " [1.65640563e-02 9.83091891e-01 3.44041066e-04]\n",
      " [2.45074370e-05 2.95746959e-05 9.99945879e-01]\n",
      " [2.90151191e-04 1.05775332e-04 9.99604046e-01]\n",
      " [5.93445839e-05 4.23350430e-05 9.99898314e-01]\n",
      " [9.82608557e-01 1.63943563e-02 9.97064868e-04]\n",
      " [1.37005711e-03 1.08193152e-03 9.97548044e-01]\n",
      " [2.77852966e-03 8.18358827e-03 9.89037871e-01]\n",
      " [8.91956734e-04 3.44338070e-04 9.98763680e-01]\n",
      " [1.96142215e-03 6.82936516e-04 9.97355700e-01]\n",
      " [2.89180200e-03 9.95936871e-01 1.17136410e-03]\n",
      " [1.78811848e-02 4.41743672e-01 5.40375113e-01]\n",
      " [5.99725284e-02 7.16303848e-03 9.32864428e-01]\n",
      " [6.78416610e-01 1.47917107e-01 1.73666283e-01]\n",
      " [7.12714732e-01 2.84872144e-01 2.41314271e-03]\n",
      " [9.85668540e-01 1.30306054e-02 1.30083365e-03]\n",
      " [8.12683065e-05 9.58393775e-06 9.99909163e-01]\n",
      " [7.27529883e-01 2.39614785e-01 3.28553617e-02]\n",
      " [8.97189796e-01 1.00030571e-01 2.77956575e-03]\n",
      " [9.90137815e-01 7.29992706e-03 2.56231008e-03]\n",
      " [1.27050944e-03 9.98629570e-01 1.00031466e-04]\n",
      " [1.55088520e-02 9.51807082e-01 3.26840505e-02]\n",
      " [8.19837383e-04 4.76604531e-04 9.98703599e-01]\n",
      " [8.25966224e-02 9.14616644e-01 2.78675207e-03]\n",
      " [6.79713301e-03 9.92838323e-01 3.64543754e-04]\n",
      " [1.41569516e-02 9.59862411e-01 2.59806868e-02]\n",
      " [4.69565153e-01 5.29657006e-01 7.77897774e-04]\n",
      " [8.40637088e-03 9.91581976e-01 1.17570298e-05]\n",
      " [6.15221858e-01 3.56714815e-01 2.80633438e-02]\n",
      " [1.18366688e-05 9.59462614e-06 9.99978542e-01]\n",
      " [1.89011335e-01 8.09670389e-01 1.31823833e-03]\n",
      " [8.34381521e-01 4.28137109e-02 1.22804783e-01]\n",
      " [9.89720762e-01 9.03821643e-03 1.24096579e-03]\n",
      " [8.41845632e-01 1.58054456e-01 9.98807154e-05]\n",
      " [9.42367420e-04 9.98881996e-01 1.75634545e-04]\n",
      " [6.01206702e-05 4.33969126e-06 9.99935508e-01]\n",
      " [9.96403456e-01 3.31344944e-03 2.83005298e-04]\n",
      " [5.85631860e-05 1.19907665e-04 9.99821603e-01]\n",
      " [9.25972581e-01 6.56543523e-02 8.37300718e-03]\n",
      " [2.14933068e-03 1.22913427e-03 9.96621490e-01]\n",
      " [4.23904695e-02 9.56893384e-01 7.16191833e-04]\n",
      " [3.47372297e-05 1.81097232e-06 9.99963403e-01]\n",
      " [7.56536261e-04 9.96814907e-01 2.42857006e-03]\n",
      " [2.23828084e-03 2.48571941e-05 9.97736812e-01]\n",
      " [6.46646142e-01 3.25583428e-01 2.77704503e-02]\n",
      " [9.73704994e-01 7.80454045e-03 1.84904169e-02]\n",
      " [7.54364908e-01 2.03904212e-01 4.17308770e-02]\n",
      " [9.17955302e-04 1.17925135e-03 9.97902751e-01]\n",
      " [6.68973720e-04 5.20497153e-04 9.98810530e-01]\n",
      " [7.28090390e-06 5.85373928e-05 9.99934196e-01]\n",
      " [2.59832367e-02 9.73174870e-01 8.41929112e-04]\n",
      " [2.74955714e-03 9.84270394e-01 1.29800215e-02]\n",
      " [9.24697101e-01 6.81586191e-02 7.14426162e-03]\n",
      " [3.73352738e-03 9.96224165e-01 4.22898011e-05]\n",
      " [4.34452333e-02 9.41101491e-01 1.54532315e-02]\n",
      " [9.55264688e-01 4.32815589e-02 1.45376462e-03]\n",
      " [4.57505584e-02 7.06884935e-02 8.83560956e-01]\n",
      " [2.67440570e-04 4.45883081e-04 9.99286711e-01]\n",
      " [7.57691205e-01 2.36962110e-01 5.34666423e-03]\n",
      " [9.16746080e-01 8.19038004e-02 1.35008141e-03]\n",
      " [6.04092143e-03 2.21580211e-02 9.71801043e-01]\n",
      " [6.23543501e-01 3.64786476e-01 1.16700241e-02]\n",
      " [1.88527435e-01 8.07406008e-01 4.06660978e-03]\n",
      " [2.36364227e-04 8.48165480e-04 9.98915434e-01]\n",
      " [1.13763221e-04 6.26060355e-05 9.99823630e-01]\n",
      " [4.91143584e-01 5.04238307e-01 4.61815065e-03]\n",
      " [8.07629339e-03 9.91293609e-01 6.30115625e-04]\n",
      " [2.19353497e-01 7.79238760e-01 1.40782341e-03]\n",
      " [9.33287740e-02 9.04703975e-01 1.96722406e-03]\n",
      " [3.52740064e-02 9.54718053e-01 1.00080017e-02]\n",
      " [9.61720049e-01 3.96282598e-03 3.43170948e-02]\n",
      " [6.17409032e-03 9.89712119e-01 4.11388418e-03]\n",
      " [5.47460699e-03 9.94431913e-01 9.35400021e-05]\n",
      " [9.14277136e-01 8.55963826e-02 1.26457526e-04]\n",
      " [9.25666273e-01 2.07348783e-02 5.35989292e-02]\n",
      " [9.49391961e-01 4.24981816e-03 4.63583246e-02]\n",
      " [1.09627163e-05 7.60041803e-06 9.99981403e-01]\n",
      " [9.55790818e-01 4.26654667e-02 1.54376077e-03]\n",
      " [1.02432609e-01 5.54558784e-02 8.42111528e-01]\n",
      " [6.31954372e-01 3.67861241e-01 1.84447272e-04]\n",
      " [9.91806865e-01 7.84758478e-03 3.45578184e-04]\n",
      " [8.66267979e-01 5.29336520e-02 8.07983950e-02]\n",
      " [6.96154416e-01 1.62613019e-01 1.41232550e-01]\n",
      " [8.61208979e-03 8.80617738e-01 1.10770203e-01]\n",
      " [3.37883756e-02 9.65025425e-01 1.18618668e-03]\n",
      " [1.45259651e-03 2.16121494e-04 9.98331249e-01]\n",
      " [3.16685364e-05 1.92869775e-05 9.99949098e-01]\n",
      " [2.65004873e-01 6.96695328e-01 3.82998660e-02]\n",
      " [8.39545857e-03 9.68721509e-01 2.28830110e-02]\n",
      " [3.10634823e-05 7.58783062e-05 9.99893069e-01]\n",
      " [9.21547055e-01 1.28080500e-02 6.56448826e-02]\n",
      " [1.82448173e-04 2.61243753e-04 9.99556243e-01]\n",
      " [4.51837517e-02 9.49069917e-01 5.74632967e-03]\n",
      " [5.16920805e-01 4.67565447e-01 1.55137917e-02]\n",
      " [5.46462601e-04 1.31091132e-04 9.99322414e-01]\n",
      " [8.76289487e-01 5.34676909e-02 7.02428222e-02]\n",
      " [1.15872333e-02 9.88228142e-01 1.84654535e-04]\n",
      " [2.77339399e-01 7.16699958e-01 5.96068613e-03]\n",
      " [8.46683681e-02 9.12291288e-01 3.04028485e-03]\n",
      " [9.56644362e-04 1.85523671e-03 9.97188151e-01]\n",
      " [1.97727114e-01 8.01515639e-01 7.57337082e-04]\n",
      " [9.04454172e-01 8.19204748e-02 1.36253806e-02]\n",
      " [4.81052585e-02 9.51278389e-01 6.16331643e-04]\n",
      " [2.07335874e-03 9.97880816e-01 4.58333780e-05]\n",
      " [9.15450573e-01 4.12965640e-02 4.32527587e-02]\n",
      " [6.33841008e-02 9.31627810e-01 4.98812320e-03]\n",
      " [8.90848756e-01 9.10139978e-02 1.81372780e-02]\n",
      " [9.87274885e-01 1.08272415e-02 1.89788837e-03]\n",
      " [7.25834742e-02 9.26627815e-01 7.88707635e-04]\n",
      " [2.39995425e-03 1.04357535e-02 9.87164259e-01]\n",
      " [6.79151667e-03 3.21136351e-04 9.92887318e-01]\n",
      " [2.45936727e-03 9.94285166e-01 3.25544248e-03]\n",
      " [7.87763774e-01 1.96462318e-01 1.57739781e-02]\n",
      " [4.82028663e-01 4.82106626e-01 3.58647369e-02]\n",
      " [1.41370785e-03 9.96922791e-01 1.66348484e-03]\n",
      " [6.19382627e-05 7.38171657e-05 9.99864221e-01]\n",
      " [3.37286711e-01 6.55130267e-01 7.58299278e-03]\n",
      " [7.66541243e-01 2.32749596e-01 7.09218381e-04]\n",
      " [9.60171878e-01 3.85889970e-02 1.23915123e-03]\n",
      " [9.40550305e-03 9.86557782e-01 4.03670315e-03]\n",
      " [1.31430710e-02 7.22012222e-01 2.64844686e-01]\n",
      " [5.08852281e-05 8.45659360e-06 9.99940634e-01]\n",
      " [6.03738008e-03 9.92390096e-01 1.57244143e-03]\n",
      " [9.61773098e-01 1.16556035e-02 2.65713073e-02]\n",
      " [1.85617630e-03 8.87915213e-03 9.89264667e-01]\n",
      " [1.39446405e-04 1.52394734e-03 9.98336554e-01]\n",
      " [6.50399379e-05 4.98683257e-05 9.99885082e-01]\n",
      " [3.11467517e-03 3.00742732e-03 9.93877947e-01]\n",
      " [9.97489452e-01 2.29573343e-03 2.14823303e-04]\n",
      " [9.79526818e-01 2.00799722e-02 3.93124239e-04]\n",
      " [9.66601968e-01 3.26579362e-02 7.40149582e-04]\n",
      " [1.42451620e-03 4.73094871e-03 9.93844509e-01]\n",
      " [2.60815350e-03 9.97236311e-01 1.55648551e-04]\n",
      " [5.93807874e-03 9.93993580e-01 6.83243125e-05]\n",
      " [9.68365312e-01 3.15854177e-02 4.93141924e-05]\n",
      " [3.09454999e-03 1.06125949e-02 9.86292839e-01]\n",
      " [7.49692678e-01 2.42484570e-01 7.82275293e-03]\n",
      " [1.06049171e-02 9.87873971e-01 1.52113766e-03]\n",
      " [7.94653356e-01 1.96256220e-01 9.09043197e-03]\n",
      " [6.13648653e-01 3.68479818e-01 1.78715046e-02]\n",
      " [4.42366421e-01 5.08692205e-01 4.89413664e-02]\n",
      " [9.87561047e-01 1.14227328e-02 1.01617386e-03]\n",
      " [3.07554659e-02 2.84840725e-02 9.40760493e-01]\n",
      " [2.71463037e-01 7.02886522e-01 2.56505162e-02]\n",
      " [7.50295385e-06 6.20445862e-05 9.99930501e-01]\n",
      " [1.67295173e-01 8.21214437e-01 1.14904167e-02]\n",
      " [1.65972591e-03 7.73851178e-04 9.97566462e-01]\n",
      " [8.04596484e-01 9.41403583e-02 1.01263136e-01]\n",
      " [2.78399646e-01 6.99998200e-01 2.16021929e-02]\n",
      " [8.74818802e-01 1.24362387e-01 8.18789005e-04]\n",
      " [9.75987852e-01 2.33155582e-02 6.96546806e-04]\n",
      " [6.07133210e-02 9.26408827e-01 1.28778061e-02]\n",
      " [1.61350763e-03 4.35544457e-03 9.94031012e-01]\n",
      " [5.94279496e-04 8.40174675e-04 9.98565614e-01]\n",
      " [3.04613914e-03 1.44020817e-03 9.95513618e-01]\n",
      " [4.78905797e-01 5.18535852e-01 2.55829701e-03]\n",
      " [1.23574864e-02 9.87275243e-01 3.67368950e-04]]\n"
     ]
    }
   ],
   "source": [
    "# ймовірності\n",
    "y_hat = resnet_Adam_model.predict(test_data)\n",
    "print(y_hat)"
   ]
  },
  {
   "cell_type": "code",
   "execution_count": 117,
   "id": "2533b88b",
   "metadata": {},
   "outputs": [
    {
     "name": "stdout",
     "output_type": "stream",
     "text": [
      "[2 1 1 1 1 0 2 1 0 1 2 0 2 1 1 0 1 2 2 1 2 2 1 1 2 2 1 2 1 2 1 1 0 2 2 2 0\n",
      " 2 0 1 0 2 1 2 0 2 1 2 0 0 1 0 0 1 2 0 2 2 0 0 0 2 2 2 2 1 0 1 0 1 2 2 2 0\n",
      " 2 2 2 2 1 2 2 0 0 0 2 0 0 0 1 1 2 1 1 1 1 1 0 2 1 0 0 0 1 2 0 2 0 2 1 2 1\n",
      " 2 0 0 0 2 2 2 1 1 0 1 1 0 2 2 0 0 2 0 1 2 2 1 1 1 1 1 0 1 1 0 0 0 2 0 2 0\n",
      " 0 0 0 1 1 2 2 1 1 2 0 2 1 0 2 0 1 1 1 2 1 0 1 1 0 1 0 0 1 2 2 1 0 1 1 2 1\n",
      " 0 0 1 1 2 1 0 2 2 2 2 0 0 0 2 1 1 0 2 0 1 0 0 1 0 2 1 2 1 2 0 1 0 0 1 2 2\n",
      " 2 1 1]\n"
     ]
    }
   ],
   "source": [
    "y_hat = y_hat.argmax(axis=1)\n",
    "print(y_hat)"
   ]
  },
  {
   "cell_type": "code",
   "execution_count": 118,
   "id": "5d6c5fcc",
   "metadata": {},
   "outputs": [
    {
     "name": "stdout",
     "output_type": "stream",
     "text": [
      "[2, 2, 0, 1, 2, 0, 1, 2, 0, 0, 0, 0, 1, 1, 1, 0, 2, 2, 1, 0, 0, 0, 2, 0, 0, 1, 2, 0, 1, 0, 1, 2, 1, 1, 0, 1, 2, 2, 1, 0, 1, 2, 1, 1, 0, 0, 1, 2, 1, 1, 2, 0, 2, 0, 1, 2, 1, 0, 0, 0, 1, 2, 1, 0, 2, 0, 2, 0, 2, 1, 0, 2, 0, 0, 2, 2, 1, 1, 2, 1, 0, 0, 1, 0, 0, 1, 1, 0, 2, 2, 2, 0, 1, 1, 1, 1, 0, 2, 1, 0, 0, 1, 2, 2, 2, 2, 2, 2, 2, 1, 2, 1, 0, 1, 0, 2, 0, 2, 0, 2, 2, 1, 2, 1, 2, 1, 2, 1, 1, 2, 2, 0, 2, 2, 0, 1, 2, 0, 1, 1, 2, 1, 2, 1, 1, 0, 1, 2, 1, 2, 1, 2, 0, 0, 0, 1, 0, 1, 2, 1, 0, 0, 1, 1, 0, 1, 2, 0, 0, 0, 2, 1, 1, 2, 2, 2, 2, 2, 2, 1, 0, 2, 0, 2, 1, 1, 2, 0, 0, 0, 0, 0, 0, 2, 0, 1, 2, 0, 0, 2, 0, 1, 1, 0, 2, 1, 0, 1, 2, 0, 0, 2, 2, 1, 1, 0, 1, 0, 2, 1, 1, 0, 2, 1, 2]\n"
     ]
    }
   ],
   "source": [
    "print(true_y)"
   ]
  },
  {
   "cell_type": "code",
   "execution_count": 119,
   "id": "0e952e10",
   "metadata": {},
   "outputs": [
    {
     "name": "stdout",
     "output_type": "stream",
     "text": [
      "Confusion matrix:\n",
      "                apple_pie  deviled_eggs  lobster_bisque\n",
      "apple_pie              23            20              32\n",
      "deviled_eggs           32            27              16\n",
      "lobster_bisque         16            31              28\n"
     ]
    }
   ],
   "source": [
    "forecast_and_conf_matrix(resnet_Adam_model,true_y)"
   ]
  },
  {
   "cell_type": "markdown",
   "id": "21d1b927",
   "metadata": {},
   "source": [
    "### 2.2 SGD optimizer"
   ]
  },
  {
   "cell_type": "code",
   "execution_count": 66,
   "id": "2a08e338",
   "metadata": {},
   "outputs": [],
   "source": [
    "resnet_SGD_model = create_BC_model(resnet_url)"
   ]
  },
  {
   "cell_type": "code",
   "execution_count": 67,
   "id": "575d076f",
   "metadata": {},
   "outputs": [
    {
     "name": "stdout",
     "output_type": "stream",
     "text": [
      "Saving TensorBoard log files to: Lab5.1/resnet(SGD)/20211125-124457\n",
      "Epoch 1/2\n",
      "24/24 [==============================] - 88s 3s/step - loss: 0.6228 - accuracy: 0.7387 - val_loss: 0.2763 - val_accuracy: 0.8800\n",
      "Epoch 2/2\n",
      "24/24 [==============================] - 70s 3s/step - loss: 0.2315 - accuracy: 0.9227 - val_loss: 0.2478 - val_accuracy: 0.9156\n",
      "Час навчання: 158.65  секунд\n"
     ]
    }
   ],
   "source": [
    "tf.random.set_seed(42)\n",
    "\n",
    "resnet_SGD_model.compile(\n",
    "    loss=\"categorical_crossentropy\", \n",
    "    optimizer=tf.keras.optimizers.SGD(), \n",
    "    metrics=['accuracy']\n",
    ")\n",
    "\n",
    "resnet_SGD_model_time = time.time()\n",
    "\n",
    "resnet_SGD_model.fit(train_data, epochs=2, validation_data=test_data, \n",
    "                               callbacks=[create_tensorboard_callback(dir_name=\"Lab5.1\", experiment_name=\"resnet(SGD)\")])\n",
    "\n",
    "time_resnet_SGD = time.time() - resnet_SGD_model_time\n",
    "\n",
    "print(\"Час навчання:\", round(time_resnet_SGD,2), \" секунд\" )"
   ]
  },
  {
   "cell_type": "code",
   "execution_count": 68,
   "id": "3d8f9b0a",
   "metadata": {},
   "outputs": [
    {
     "name": "stdout",
     "output_type": "stream",
     "text": [
      "Confusion matrix:\n",
      "                apple_pie  deviled_eggs  lobster_bisque\n",
      "apple_pie              26            22              27\n",
      "deviled_eggs           29            24              22\n",
      "lobster_bisque         32            18              25\n"
     ]
    }
   ],
   "source": [
    "forecast_and_conf_matrix(resnet_SGD_model,true_y)"
   ]
  },
  {
   "cell_type": "markdown",
   "id": "b9bdb242",
   "metadata": {},
   "source": [
    "#### 2.3 Fine-tuned model"
   ]
  },
  {
   "cell_type": "code",
   "execution_count": 69,
   "id": "7f563f47",
   "metadata": {},
   "outputs": [],
   "source": [
    "resnet_ft=tf.keras.applications.ResNet101(include_top=False)\n",
    "resnet_ft.trainable=False\n",
    "inputs = tf.keras.layers.Input(shape=(224,224,3),name=\"input_layer\")\n",
    "\n",
    "\n",
    "x=resnet_ft(inputs)\n",
    "x=tf.keras.layers.GlobalAveragePooling2D(name=\"gap_layer\")(x)\n",
    "outputs= tf.keras.layers.Dense(3,activation=\"softmax\",name=\"output_layer\")(x)\n",
    "\n",
    "\n",
    "model_resnet_ft=tf.keras.Model(inputs,outputs)\n"
   ]
  },
  {
   "cell_type": "code",
   "execution_count": 70,
   "id": "bcf5c53e",
   "metadata": {},
   "outputs": [],
   "source": [
    "model_resnet_ft.compile(\n",
    "    loss='categorical_crossentropy', \n",
    "    optimizer=tf.keras.optimizers.Adam(), \n",
    "    metrics=['accuracy']\n",
    ")"
   ]
  },
  {
   "cell_type": "code",
   "execution_count": 71,
   "id": "fcb7e7b8",
   "metadata": {},
   "outputs": [
    {
     "name": "stdout",
     "output_type": "stream",
     "text": [
      "Epoch 1/2\n",
      "24/24 [==============================] - 99s 4s/step - loss: 1.1483 - accuracy: 0.3080 - val_loss: 1.1267 - val_accuracy: 0.3289\n",
      "Epoch 2/2\n",
      "24/24 [==============================] - 90s 4s/step - loss: 1.1137 - accuracy: 0.3293 - val_loss: 1.1108 - val_accuracy: 0.3467\n"
     ]
    }
   ],
   "source": [
    "history_resnet_ft =  model_resnet_ft.fit(train_data, \n",
    "                                        epochs=2, \n",
    "                                        # steps_per_epoch=len(train_data), \n",
    "                                        validation_data=test_data, \n",
    "                                        # validation_steps=len(test_data)\n",
    "                                        )"
   ]
  },
  {
   "cell_type": "code",
   "execution_count": 72,
   "id": "c1bb5721",
   "metadata": {},
   "outputs": [
    {
     "name": "stdout",
     "output_type": "stream",
     "text": [
      "Model: \"model\"\n",
      "_________________________________________________________________\n",
      " Layer (type)                Output Shape              Param #   \n",
      "=================================================================\n",
      " input_layer (InputLayer)    [(None, 224, 224, 3)]     0         \n",
      "                                                                 \n",
      " resnet101 (Functional)      (None, None, None, 2048)  42658176  \n",
      "                                                                 \n",
      " gap_layer (GlobalAveragePoo  (None, 2048)             0         \n",
      " ling2D)                                                         \n",
      "                                                                 \n",
      " output_layer (Dense)        (None, 3)                 6147      \n",
      "                                                                 \n",
      "=================================================================\n",
      "Total params: 42,664,323\n",
      "Trainable params: 6,147\n",
      "Non-trainable params: 42,658,176\n",
      "_________________________________________________________________\n"
     ]
    }
   ],
   "source": [
    "model_resnet_ft.summary()"
   ]
  },
  {
   "cell_type": "code",
   "execution_count": 73,
   "id": "7844ec6c",
   "metadata": {},
   "outputs": [],
   "source": [
    "for layer in resnet_ft.layers[-10:]:\n",
    "    layer.trainable=True"
   ]
  },
  {
   "cell_type": "code",
   "execution_count": 74,
   "id": "fabc8940",
   "metadata": {},
   "outputs": [],
   "source": [
    "model_resnet_ft.compile(\n",
    "    loss='categorical_crossentropy', \n",
    "    optimizer=tf.keras.optimizers.Adam(), \n",
    "    metrics=['accuracy']\n",
    ")"
   ]
  },
  {
   "cell_type": "code",
   "execution_count": 75,
   "id": "93719d97",
   "metadata": {},
   "outputs": [
    {
     "name": "stdout",
     "output_type": "stream",
     "text": [
      "Model: \"model\"\n",
      "_________________________________________________________________\n",
      " Layer (type)                Output Shape              Param #   \n",
      "=================================================================\n",
      " input_layer (InputLayer)    [(None, 224, 224, 3)]     0         \n",
      "                                                                 \n",
      " resnet101 (Functional)      (None, None, None, 2048)  42658176  \n",
      "                                                                 \n",
      " gap_layer (GlobalAveragePoo  (None, 2048)             0         \n",
      " ling2D)                                                         \n",
      "                                                                 \n",
      " output_layer (Dense)        (None, 3)                 6147      \n",
      "                                                                 \n",
      "=================================================================\n",
      "Total params: 42,664,323\n",
      "Trainable params: 6,147\n",
      "Non-trainable params: 42,658,176\n",
      "_________________________________________________________________\n"
     ]
    }
   ],
   "source": [
    "model_resnet_ft.summary()"
   ]
  },
  {
   "cell_type": "markdown",
   "id": "995cae5a",
   "metadata": {},
   "source": [
    "### 3. Efficientnet model"
   ]
  },
  {
   "cell_type": "markdown",
   "id": "8e04e410",
   "metadata": {},
   "source": [
    "#### 3.1 Adam optimizer"
   ]
  },
  {
   "cell_type": "code",
   "execution_count": 81,
   "id": "d266a829",
   "metadata": {},
   "outputs": [],
   "source": [
    "efficientnet_url=\"https://tfhub.dev/tensorflow/efficientnet/b0/feature-vector/1\""
   ]
  },
  {
   "cell_type": "code",
   "execution_count": 82,
   "id": "7f03f2f8",
   "metadata": {},
   "outputs": [],
   "source": [
    "efficientnet_Adam_model = create_BC_model(efficientnet_url)"
   ]
  },
  {
   "cell_type": "code",
   "execution_count": 83,
   "id": "9a102348",
   "metadata": {},
   "outputs": [],
   "source": [
    "efficientnet_Adam_model.compile()"
   ]
  },
  {
   "cell_type": "code",
   "execution_count": 84,
   "id": "1c6ed13e",
   "metadata": {},
   "outputs": [
    {
     "name": "stdout",
     "output_type": "stream",
     "text": [
      "Model: \"sequential_7\"\n",
      "_________________________________________________________________\n",
      " Layer (type)                Output Shape              Param #   \n",
      "=================================================================\n",
      " feature_extraction_layer (K  (None, 1280)             4049564   \n",
      " erasLayer)                                                      \n",
      "                                                                 \n",
      " output_layer (Dense)        (None, 3)                 3843      \n",
      "                                                                 \n",
      "=================================================================\n",
      "Total params: 4,053,407\n",
      "Trainable params: 3,843\n",
      "Non-trainable params: 4,049,564\n",
      "_________________________________________________________________\n"
     ]
    }
   ],
   "source": [
    "efficientnet_Adam_model.summary()"
   ]
  },
  {
   "cell_type": "code",
   "execution_count": 85,
   "id": "9b5b9696",
   "metadata": {},
   "outputs": [
    {
     "name": "stdout",
     "output_type": "stream",
     "text": [
      "Saving TensorBoard log files to: Lab5.1/efficientnet(Adam)/20211125-125758\n",
      "Epoch 1/2\n",
      "24/24 [==============================] - 53s 1s/step - loss: 0.6583 - accuracy: 0.7893 - val_loss: 0.3903 - val_accuracy: 0.9200\n",
      "Epoch 2/2\n",
      "24/24 [==============================] - 30s 1s/step - loss: 0.2825 - accuracy: 0.9413 - val_loss: 0.2630 - val_accuracy: 0.9422\n",
      "Час навчання: 82.94  секунд\n"
     ]
    }
   ],
   "source": [
    "tf.random.set_seed(42)\n",
    "\n",
    "efficientnet_Adam_model.compile(\n",
    "    loss=\"categorical_crossentropy\", \n",
    "    optimizer=tf.keras.optimizers.Adam(), \n",
    "    metrics=['accuracy']\n",
    ")\n",
    "\n",
    "efficientnet_Adam_model_time = time.time()\n",
    "\n",
    "efficientnet_Adam_model.fit(train_data, epochs=2, validation_data=test_data, \n",
    "                               callbacks=[create_tensorboard_callback(dir_name=\"Lab5.1\", experiment_name=\"efficientnet(Adam)\")])\n",
    "\n",
    "time_efficientnet_Adam = time.time() - efficientnet_Adam_model_time\n",
    "\n",
    "print(\"Час навчання:\", round(time_efficientnet_Adam,2), \" секунд\" )"
   ]
  },
  {
   "cell_type": "code",
   "execution_count": 86,
   "id": "a40f21df",
   "metadata": {},
   "outputs": [],
   "source": [
    "test_data.reset()"
   ]
  },
  {
   "cell_type": "code",
   "execution_count": 90,
   "id": "3f1ac3d9",
   "metadata": {},
   "outputs": [
    {
     "name": "stdout",
     "output_type": "stream",
     "text": [
      "[1 2 2 0 1 1 1 0 1 2 0 2 2 1 2 1 0 0 0 2 1 2 2 2 1 1 1 1 1 2 2 0 0 0 2 1 0\n",
      " 0 0 0 2 1 0 1 2 2 1 1 1 0 2 1 2 1 0 0 1 2 0 0 1 2 2 1 0 2 1 2 2 1 2 1 1 0\n",
      " 2 0 2 2 2 0 0 1 2 1 0 0 1 2 0 0 0 1 1 0 2 2 1 1 0 2 0 1 2 0 1 0 1 2 2 1 0\n",
      " 0 0 0 1 1 2 2 2 0 0 0 1 1 2 2 2 0 0 0 0 2 2 2 2 0 1 0 1 0 2 1 2 0 1 2 1 1\n",
      " 2 0 0 0 1 2 0 0 0 0 2 0 0 0 0 2 2 2 1 2 2 1 2 0 0 1 1 1 0 1 2 0 1 2 1 1 2\n",
      " 2 2 0 1 0 2 2 1 2 0 0 1 2 2 2 1 2 0 1 0 0 1 2 0 0 1 0 1 0 1 2 0 2 1 0 0 1\n",
      " 0 1 1]\n"
     ]
    }
   ],
   "source": [
    "y_hat = efficientnet_Adam_model.predict(test_data)\n",
    "y_hat = y_hat.argmax(axis = 1)\n",
    "print(y_hat)"
   ]
  },
  {
   "cell_type": "code",
   "execution_count": 91,
   "id": "d978a9a7",
   "metadata": {},
   "outputs": [
    {
     "name": "stdout",
     "output_type": "stream",
     "text": [
      "[2, 2, 0, 1, 2, 0, 1, 2, 0, 0, 0, 0, 1, 1, 1, 0, 2, 2, 1, 0, 0, 0, 2, 0, 0, 1, 2, 0, 1, 0, 1, 2, 1, 1, 0, 1, 2, 2, 1, 0, 1, 2, 1, 1, 0, 0, 1, 2, 1, 1, 2, 0, 2, 0, 1, 2, 1, 0, 0, 0, 1, 2, 1, 0, 2, 0, 2, 0, 2, 1, 0, 2, 0, 0, 2, 2, 1, 1, 2, 1, 0, 0, 1, 0, 0, 1, 1, 0, 2, 2, 2, 0, 1, 1, 1, 1, 0, 2, 1, 0, 0, 1, 2, 2, 2, 2, 2, 2, 2, 1, 2, 1, 0, 1, 0, 2, 0, 2, 0, 2, 2, 1, 2, 1, 2, 1, 2, 1, 1, 2, 2, 0, 2, 2, 0, 1, 2, 0, 1, 1, 2, 1, 2, 1, 1, 0, 1, 2, 1, 2, 1, 2, 0, 0, 0, 1, 0, 1, 2, 1, 0, 0, 1, 1, 0, 1, 2, 0, 0, 0, 2, 1, 1, 2, 2, 2, 2, 2, 2, 1, 0, 2, 0, 2, 1, 1, 2, 0, 0, 0, 0, 0, 0, 2, 0, 1, 2, 0, 0, 2, 0, 1, 1, 0, 2, 1, 0, 1, 2, 0, 0, 2, 2, 1, 1, 0, 1, 0, 2, 1, 1, 0, 2, 1, 2]\n"
     ]
    }
   ],
   "source": [
    "print(true_y)"
   ]
  },
  {
   "cell_type": "code",
   "execution_count": 93,
   "id": "50dd7408",
   "metadata": {},
   "outputs": [
    {
     "name": "stdout",
     "output_type": "stream",
     "text": [
      "Confusion matrix:\n",
      "                apple_pie  deviled_eggs  lobster_bisque\n",
      "apple_pie              34            20              21\n",
      "deviled_eggs           20            29              26\n",
      "lobster_bisque         25            23              27\n"
     ]
    }
   ],
   "source": [
    "forecast_and_conf_matrix(efficientnet_Adam_model,true_y)"
   ]
  },
  {
   "cell_type": "code",
   "execution_count": 94,
   "id": "82c2d532",
   "metadata": {},
   "outputs": [
    {
     "name": "stdout",
     "output_type": "stream",
     "text": [
      "8/8 [==============================] - 7s 806ms/step - loss: 0.2630 - accuracy: 0.9422\n"
     ]
    },
    {
     "data": {
      "text/plain": [
       "[0.2629548907279968, 0.9422222375869751]"
      ]
     },
     "execution_count": 94,
     "metadata": {},
     "output_type": "execute_result"
    }
   ],
   "source": [
    "efficientnet_Adam_model.evaluate(test_data)"
   ]
  },
  {
   "cell_type": "code",
   "execution_count": 95,
   "id": "c3dc964c",
   "metadata": {},
   "outputs": [],
   "source": [
    "for layer in efficientnet_Adam_model.layers[-10:]:\n",
    "    layer.trainable=True"
   ]
  },
  {
   "cell_type": "code",
   "execution_count": 96,
   "id": "41a1ca92",
   "metadata": {},
   "outputs": [],
   "source": [
    "efficientnet_Adam_model.compile(\n",
    "    loss=\"categorical_crossentropy\", \n",
    "    optimizer=tf.keras.optimizers.Adam(), \n",
    "    metrics=['accuracy']\n",
    ")"
   ]
  },
  {
   "cell_type": "code",
   "execution_count": 97,
   "id": "82e9382f",
   "metadata": {},
   "outputs": [
    {
     "name": "stdout",
     "output_type": "stream",
     "text": [
      "Model: \"sequential_7\"\n",
      "_________________________________________________________________\n",
      " Layer (type)                Output Shape              Param #   \n",
      "=================================================================\n",
      " feature_extraction_layer (K  (None, 1280)             4049564   \n",
      " erasLayer)                                                      \n",
      "                                                                 \n",
      " output_layer (Dense)        (None, 3)                 3843      \n",
      "                                                                 \n",
      "=================================================================\n",
      "Total params: 4,053,407\n",
      "Trainable params: 4,011,391\n",
      "Non-trainable params: 42,016\n",
      "_________________________________________________________________\n"
     ]
    }
   ],
   "source": [
    "efficientnet_Adam_model.summary()"
   ]
  },
  {
   "cell_type": "markdown",
   "id": "60ed12ad",
   "metadata": {},
   "source": [
    "#### 3.2 SGD"
   ]
  },
  {
   "cell_type": "code",
   "execution_count": 98,
   "id": "7a92fecd",
   "metadata": {},
   "outputs": [],
   "source": [
    "efficientnet_SGD_model = create_BC_model(efficientnet_url)"
   ]
  },
  {
   "cell_type": "code",
   "execution_count": 99,
   "id": "29c571ac",
   "metadata": {},
   "outputs": [
    {
     "name": "stdout",
     "output_type": "stream",
     "text": [
      "Saving TensorBoard log files to: Lab5.1/efficientnet(SGD)/20211125-130434\n",
      "Epoch 1/2\n",
      "24/24 [==============================] - 55s 1s/step - loss: 0.7955 - accuracy: 0.7147 - val_loss: 0.5828 - val_accuracy: 0.8489\n",
      "Epoch 2/2\n",
      "24/24 [==============================] - 30s 1s/step - loss: 0.4892 - accuracy: 0.8867 - val_loss: 0.4384 - val_accuracy: 0.8889\n",
      "Час навчання: 85.96  секунд\n"
     ]
    }
   ],
   "source": [
    "tf.random.set_seed(42)\n",
    "\n",
    "efficientnet_SGD_model.compile(\n",
    "    loss=\"categorical_crossentropy\", \n",
    "    optimizer=tf.keras.optimizers.SGD(), \n",
    "    metrics=['accuracy']\n",
    ")\n",
    "\n",
    "efficientnet_SGD_model_time = time.time()\n",
    "\n",
    "efficientnet_SGD_model.fit(train_data, epochs=2, validation_data=test_data, \n",
    "                               callbacks=[create_tensorboard_callback(dir_name=\"Lab5.1\", experiment_name=\"efficientnet(SGD)\")])\n",
    "\n",
    "time_efficientnet_SGD = time.time() - efficientnet_SGD_model_time\n",
    "\n",
    "print(\"Час навчання:\", round(time_efficientnet_SGD,2), \" секунд\" )"
   ]
  },
  {
   "cell_type": "code",
   "execution_count": 100,
   "id": "42b27962",
   "metadata": {},
   "outputs": [
    {
     "name": "stdout",
     "output_type": "stream",
     "text": [
      "Confusion matrix:\n",
      "                apple_pie  deviled_eggs  lobster_bisque\n",
      "apple_pie              21            29              25\n",
      "deviled_eggs           27            18              30\n",
      "lobster_bisque         24            29              22\n"
     ]
    }
   ],
   "source": [
    "forecast_and_conf_matrix(efficientnet_SGD_model,true_y)"
   ]
  },
  {
   "cell_type": "code",
   "execution_count": null,
   "id": "8c30d7ed",
   "metadata": {},
   "outputs": [],
   "source": []
  }
 ],
 "metadata": {
  "kernelspec": {
   "display_name": "Python 3",
   "language": "python",
   "name": "python3"
  },
  "language_info": {
   "codemirror_mode": {
    "name": "ipython",
    "version": 3
   },
   "file_extension": ".py",
   "mimetype": "text/x-python",
   "name": "python",
   "nbconvert_exporter": "python",
   "pygments_lexer": "ipython3",
   "version": "3.8.8"
  }
 },
 "nbformat": 4,
 "nbformat_minor": 5
}
